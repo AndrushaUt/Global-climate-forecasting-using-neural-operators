{
 "cells": [
  {
   "cell_type": "code",
   "execution_count": 1,
   "id": "3dbbb110-ef8e-43b9-9afd-25db7c4db47a",
   "metadata": {},
   "outputs": [
    {
     "data": {
      "text/plain": [
       "device(type='cuda')"
      ]
     },
     "execution_count": 1,
     "metadata": {},
     "output_type": "execute_result"
    }
   ],
   "source": [
    "import torch\n",
    "\n",
    "from tqdm import tqdm\n",
    "\n",
    "device = torch.device('cuda' if torch.cuda.is_available() else 'cpu')\n",
    "device"
   ]
  },
  {
   "cell_type": "code",
   "execution_count": 2,
   "id": "a6de3842-1545-4c0c-813f-b29542d0d959",
   "metadata": {},
   "outputs": [
    {
     "name": "stderr",
     "output_type": "stream",
     "text": [
      "/home/asutkin/.conda/envs/vrwkv/lib/python3.11/site-packages/tqdm/auto.py:21: TqdmWarning: IProgress not found. Please update jupyter and ipywidgets. See https://ipywidgets.readthedocs.io/en/stable/user_install.html\n",
      "  from .autonotebook import tqdm as notebook_tqdm\n",
      "Using /home/asutkin/.cache/torch_extensions/py311_cu121 as PyTorch extensions root...\n",
      "Detected CUDA files, patching ldflags\n",
      "Emitting ninja build file /home/asutkin/.cache/torch_extensions/py311_cu121/wkv/build.ninja...\n",
      "/home/asutkin/.conda/envs/vrwkv/lib/python3.11/site-packages/torch/utils/cpp_extension.py:1967: UserWarning: TORCH_CUDA_ARCH_LIST is not set, all archs for visible cards are included for compilation. \n",
      "If this is not desired, please set os.environ['TORCH_CUDA_ARCH_LIST'].\n",
      "  warnings.warn(\n",
      "Building extension module wkv...\n",
      "Allowing ninja to set a default number of workers... (overridable by setting the environment variable MAX_JOBS=N)\n",
      "Loading extension module wkv...\n"
     ]
    },
    {
     "name": "stdout",
     "output_type": "stream",
     "text": [
      "ninja: no work to do.\n"
     ]
    }
   ],
   "source": [
    "from models.fuxi_vrwkv import FuxiV2VRWKV\n",
    "from train_utils.dataloader_openstl import load_data"
   ]
  },
  {
   "cell_type": "code",
   "execution_count": 3,
   "id": "d52771ce-667b-48f7-829e-8b9f9e52f41b",
   "metadata": {},
   "outputs": [],
   "source": [
    "data_root = \"/home/fa.buzaev/data_5/\"\n",
    "prediction_horizone = 12"
   ]
  },
  {
   "cell_type": "code",
   "execution_count": 4,
   "id": "98c61272-6158-4caf-875a-8b33c3b51c79",
   "metadata": {},
   "outputs": [
    {
     "name": "stderr",
     "output_type": "stream",
     "text": [
      "/home/asutkin/.conda/envs/vrwkv/lib/python3.11/site-packages/xarray/core/accessor_dt.py:441: FutureWarning: dt.weekofyear and dt.week have been deprecated. Please use dt.isocalendar().week instead.\n",
      "  warnings.warn(\n",
      "/home/asutkin/.conda/envs/vrwkv/lib/python3.11/site-packages/xarray/core/accessor_dt.py:441: FutureWarning: dt.weekofyear and dt.week have been deprecated. Please use dt.isocalendar().week instead.\n",
      "  warnings.warn(\n",
      "/home/asutkin/.conda/envs/vrwkv/lib/python3.11/site-packages/xarray/core/accessor_dt.py:441: FutureWarning: dt.weekofyear and dt.week have been deprecated. Please use dt.isocalendar().week instead.\n",
      "  warnings.warn(\n",
      "/home/asutkin/.conda/envs/vrwkv/lib/python3.11/site-packages/torch/utils/data/dataloader.py:558: UserWarning: This DataLoader will create 6 worker processes in total. Our suggested max number of worker in current system is 1, which is smaller than what this DataLoader is going to create. Please be aware that excessive worker creation might get DataLoader running slow or even freeze, lower the worker number to avoid potential slowness/freeze if necessary.\n",
      "  warnings.warn(_create_warning_msg(\n"
     ]
    }
   ],
   "source": [
    "dataloader_train, dataloader_vali, dataloader_test, mean, std = load_data(batch_size=50,\n",
    "                                                                          val_batch_size=125,\n",
    "                                                                          data_root=data_root,\n",
    "                                                                          num_workers=6,\n",
    "                                                                          # data_split='2_8125',\n",
    "                                                                          # data_name='mv3',\n",
    "                                                                          data_split='5_625',\n",
    "                                                                          data_name='t2m',\n",
    "                                                                          # data_name='mv6',\n",
    "                                                                          # train_time=['1979', '2015'],\n",
    "                                                                          train_time=['2010', '2015'],\n",
    "                                                                          val_time=['2016', '2016'],\n",
    "                                                                          test_time=['2017', '2018'],\n",
    "                                                                          idx_in=[-11, -10, -9, -8, -7, -6, -5, -4, -3, -2, -1, 0],\n",
    "                                                                          idx_out=[*range(1, prediction_horizone+1)],\n",
    "                                                                          step=1,\n",
    "                                                                          level=1,\n",
    "                                                                          distributed=False, use_augment=False, \n",
    "                                                                          use_prefetcher=False, drop_last=False)"
   ]
  },
  {
   "cell_type": "code",
   "execution_count": 6,
   "id": "69445f4b-0da6-4418-bbc0-2ecb82627019",
   "metadata": {},
   "outputs": [],
   "source": [
    "torch.cuda.empty_cache()"
   ]
  },
  {
   "cell_type": "code",
   "execution_count": null,
   "id": "aa8304b0-4b7d-46ba-a2d6-f8ed6c054f04",
   "metadata": {},
   "outputs": [
    {
     "name": "stderr",
     "output_type": "stream",
     "text": [
      "100%|██████████| 1051/1051 [41:25<00:00,  2.37s/it]\n"
     ]
    },
    {
     "name": "stdout",
     "output_type": "stream",
     "text": [
      "0.021154796851747495\n"
     ]
    },
    {
     "name": "stderr",
     "output_type": "stream",
     "text": [
      " 13%|█▎        | 132/1051 [04:55<34:06,  2.23s/it]"
     ]
    }
   ],
   "source": [
    "from tqdm import tqdm\n",
    "\n",
    "criterion = torch.nn.MSELoss()\n",
    "model = FuxiV2VRWKV(img_size=(1, 32, 64), patch_size=(1, 4, 4), in_chans=12, out_chans=1, embed_dim=64, num_groups=16, num_heads=8, window_size=7).to(device)\n",
    "optimizer = torch.optim.AdamW(model.parameters(), lr=1e-3, weight_decay=1e-4)\n",
    "scheduler = torch.optim.lr_scheduler.StepLR(optimizer, step_size=150, gamma=0.5)\n",
    "for i in range(10):\n",
    "    model.train()\n",
    "    running_loss = 0\n",
    "    for x_train, y_train in tqdm(dataloader_train):\n",
    "        x_train, y_train = x_train.to(device), y_train.to(device)\n",
    "        optimizer.zero_grad()\n",
    "        big_loss = 0\n",
    "        for i in range(1, prediction_horizone):\n",
    "            time_tensor = i * torch.ones(x_train.shape[0], device=x_train.device).unsqueeze(-1)\n",
    "            prediction = model(x_train, time_tensor)\n",
    "            loss = criterion(prediction, y_train[:,i,:,:,:])\n",
    "            torch.cat((x_train[:,1:,:,:,:], prediction.unsqueeze(1)), dim=1)\n",
    "            big_loss += loss\n",
    "        big_loss.backward()\n",
    "        optimizer.step()\n",
    "        running_loss += big_loss.item() / prediction_horizone\n",
    "    print(running_loss / len(dataloader_train))"
   ]
  },
  {
   "cell_type": "code",
   "execution_count": null,
   "id": "a939b79c-a3c8-4574-afb3-58c6a17f9a0a",
   "metadata": {},
   "outputs": [],
   "source": []
  }
 ],
 "metadata": {
  "kernelspec": {
   "display_name": "Python 3",
   "language": "python",
   "name": "python3"
  },
  "language_info": {
   "codemirror_mode": {
    "name": "ipython",
    "version": 3
   },
   "file_extension": ".py",
   "mimetype": "text/x-python",
   "name": "python",
   "nbconvert_exporter": "python",
   "pygments_lexer": "ipython3",
   "version": "3.11.5"
  }
 },
 "nbformat": 4,
 "nbformat_minor": 5
}
